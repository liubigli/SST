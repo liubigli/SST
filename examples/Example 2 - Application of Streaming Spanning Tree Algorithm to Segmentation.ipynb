{
 "cells": [
  {
   "cell_type": "markdown",
   "metadata": {},
   "source": [
    "# Applications of Streaming Spanning Tree Algorithm to Segmentation\n",
    "\n",
    "In this notebook we show three possible applications of Streaming Spanning Tree Algorithm, that we introduced in the previous notebook, to Segmentation. In particular we show how to use it to\n",
    "- compute $\\lambda$-quasi-flat-zones,\n",
    "- compute a marker-based segmentation,\n",
    "- compute the $(\\alpha, \\omega)$-constrained connectivity.\n",
    "\n",
    "Thanks to the fact that our algorithm splits the minimum spanning tree obtained at time $t$ between a stable and an unstable part, is possible to start treating stable edges to obtain at each step a partial segmentation of the complete image. This avoid to load all the graph in memory and allows also to treat bigger images.\n",
    "\n",
    "We have written a method for each of the cases listed above. Each of them, at each iteration $t$, yields a partial segmentation coded as a vector $\\sigma_t$ of shape $2 \\times m_t$. At the first row of vector $\\sigma_t$, we list the ids of the nodes/pixels in the image for which we can assign a label in the segmentation, whilst in the second rows we put the labels assigned to nodes in the first row."
   ]
  },
  {
   "cell_type": "code",
   "execution_count": null,
   "metadata": {
    "collapsed": true
   },
   "outputs": [],
   "source": [
    "import numpy as np\n",
    "from scipy.misc import ascent, imread\n",
    "from matplotlib import pyplot as plt\n",
    "\n",
    "import loadlib\n",
    "\n",
    "from SST.utils import *\n",
    "from SST.streaming.streaming_generators import HorizontalStreaming\n",
    "from SST.applications.segmentation.streaming_segmentation import quasi_flat_zone_streaming\n",
    "\n",
    "plt.rcParams['figure.figsize'] = (12.0, 12.0)\n",
    "%load_ext autoreload\n",
    "\n",
    "%matplotlib inline"
   ]
  },
  {
   "cell_type": "code",
   "execution_count": null,
   "metadata": {
    "collapsed": true
   },
   "outputs": [],
   "source": [
    "%autoreload 2"
   ]
  },
  {
   "cell_type": "markdown",
   "metadata": {},
   "source": [
    "### $\\lambda$-quasi-flat-zones\n",
    "\n",
    "In the following we show how to compute the $\\lambda$-quasi-flat-zones of a streaming image. To do so, we implemented a method called ```quasi_flat_zone_streaming```, that at each time $t=0,\\ldots, T$ it returns a vector of shape $2\\times m_t$, containing at the first row the ids of the nodes/pixels for which we can assing a label, and at the second row the label assigned. So at each step this method yields a partial segmentation of the complete image.  "
   ]
  },
  {
   "cell_type": "code",
   "execution_count": null,
   "metadata": {},
   "outputs": [],
   "source": [
    "# loading image\n",
    "# im = ascent()\n",
    "# img = im[300:400,:500]\n",
    "test_img = imread('RGB_US-CA-SanDiego_2010_05_03.tif')\n",
    "print(test_img.shape)\n",
    "# img = test_img[2000:2500, :1498]\n",
    "img = test_img[2000:2500,500:1998]\n",
    "\n",
    "plt.imshow(img)\n",
    "plt.show()"
   ]
  },
  {
   "cell_type": "code",
   "execution_count": null,
   "metadata": {
    "collapsed": true
   },
   "outputs": [],
   "source": [
    "u8 = np.arange(256)\n",
    "MAP = np.array(np.meshgrid(u8, u8, u8)).T.reshape(-1, 3)\n",
    "ind = np.lexsort((MAP[:,2], MAP[:,1], MAP[:,0]))\n",
    "MAP = MAP[ind]\n",
    "\n",
    "shuffle_colors = np.arange(1, len(MAP))\n",
    "np.random.seed(1)\n",
    "np.random.shuffle(shuffle_colors)\n",
    "shuffle_colors = np.concatenate(([0], shuffle_colors))"
   ]
  },
  {
   "cell_type": "code",
   "execution_count": null,
   "metadata": {
    "collapsed": true
   },
   "outputs": [],
   "source": [
    "def plot_segmentation(orig_img, labels, order='F', title=''):\n",
    "    import time\n",
    "    from PIL import Image\n",
    "    \n",
    "    nr, nc, nz = np.atleast_3d(orig_img).shape\n",
    "    # building segmentation from the array of labels\n",
    "    seg = np.zeros(nr*nc, dtype=np.int_)\n",
    "\n",
    "    seg[labels[0]] = labels[1]\n",
    "    \n",
    "#     unique = np.unique(seg)\n",
    "#     dict_map = { unique[i]: i for i in range(len(unique))}\n",
    "#     seg = np.array([dict_map[l] for l in seg])\n",
    "\n",
    "    res_img = label_image(orig_img, seg, order=order)\n",
    "    res_img[seg.reshape((nr, nc), order=order) == 0] = 0\n",
    "    if title != '':\n",
    "        seg_img = seg.reshape(nr, nc, order=order)\n",
    "        im = Image.fromarray(MAP[shuffle_colors[seg_img]].astype(np.uint8))\n",
    "        im.save(title+'.png')\n",
    "    \n",
    "    plt.figure()\n",
    "    plt.imshow(res_img)\n",
    "    plt.axis('off')\n",
    "    plt.show()\n",
    "\n"
   ]
  },
  {
   "cell_type": "code",
   "execution_count": null,
   "metadata": {
    "scrolled": false
   },
   "outputs": [],
   "source": [
    "# creating streaming\n",
    "gen = HorizontalStreaming(img)\n",
    "stream = gen.generate_stream(block_shape=(500,500))\n",
    "# stream = gen.generate_stream(block_shape=(4723,2347))\n",
    "\n",
    "threshold = 10\n",
    "for n, (labels, i) in enumerate(quasi_flat_zone_streaming(stream, threshold, return_img=True)):\n",
    "    print(\"Number of new stable labels at iteration {} is {}\".format(n, labels.shape[1]))\n",
    "    if n > 0:\n",
    "        i = stick_two_images(old_i,i,num_overlapping=1,direction='H')\n",
    "        labels = np.concatenate((old_labels, labels), axis=1)\n",
    "    plot_segmentation(i, labels, order='F', title='qfz_'+str(n))\n",
    "    old_i = i\n",
    "    old_labels = labels"
   ]
  },
  {
   "cell_type": "markdown",
   "metadata": {
    "collapsed": true
   },
   "source": [
    "### Marker based segmentation by MST\n",
    "\n",
    "In the following we show an example of marker based segmentation by MST. We do so using a method called ```marker_flooding_streaming``` "
   ]
  },
  {
   "cell_type": "code",
   "execution_count": null,
   "metadata": {
    "collapsed": true
   },
   "outputs": [],
   "source": [
    "from SST.applications.segmentation.streaming_segmentation import marker_flooding_streaming"
   ]
  },
  {
   "cell_type": "code",
   "execution_count": null,
   "metadata": {},
   "outputs": [],
   "source": [
    "# # loading image\n",
    "# im = ascent()\n",
    "# img = im[300:400,:500]\n",
    "\n",
    "# image shape\n",
    "nr, nc = img.shape[:2]\n",
    "\n",
    "plt.imshow(img)\n",
    "plt.show()"
   ]
  },
  {
   "cell_type": "code",
   "execution_count": null,
   "metadata": {},
   "outputs": [],
   "source": [
    "# generating random markers\n",
    "np.random.seed(1)\n",
    "num_markers = 100\n",
    "\n",
    "markers = np.random.randint(0 , nr*nc, size=num_markers)\n",
    "markers.sort()\n",
    "print(markers)\n",
    "# plotting markers position\n",
    "mark_img = np.zeros((nr*nc), dtype=np.uint8)\n",
    "mark_img[markers] = 255\n",
    "mark_img = mark_img.reshape((nr, nc), order='F')\n",
    "plt.figure(figsize=(16,5))\n",
    "plt.imshow(mark_img)\n",
    "plt.show()"
   ]
  },
  {
   "cell_type": "code",
   "execution_count": null,
   "metadata": {},
   "outputs": [],
   "source": [
    "# instatiating image generator\n",
    "gen = HorizontalStreaming(img)\n",
    "stream = gen.generate_stream(block_shape=(500,500), markers=markers)\n",
    "\n",
    "for n, (labels, i) in enumerate(marker_flooding_streaming(stream, return_img=True)):\n",
    "    print(\"Number of new stable nodes at iteration {} is {}\".format(n, labels.shape[1]))\n",
    "    if n > 0:\n",
    "        i = stick_two_images(old_i,i,num_overlapping=1,direction='H')\n",
    "        labels = np.concatenate((old_labels, labels), axis=1)\n",
    "    img_shape = i.shape[:2]\n",
    "    plot_segmentation(i, labels,order='F', title='marked_based'+str(n))\n",
    "    print(\"Number of unique labels: \", len(np.unique(labels[1])))\n",
    "    old_i = i\n",
    "    old_labels = labels"
   ]
  },
  {
   "cell_type": "markdown",
   "metadata": {},
   "source": [
    "### $(\\alpha,\\omega)$-constrained connectivity\n",
    "\n",
    "In the following we show an example of $(\\alpha,\\omega)$-constrained connectivity. We do so using a method called ```alpha_omega_cc_streaming``` "
   ]
  },
  {
   "cell_type": "code",
   "execution_count": null,
   "metadata": {
    "collapsed": true
   },
   "outputs": [],
   "source": [
    "from SST.applications.segmentation.streaming_segmentation import alpha_omega_cc_streaming"
   ]
  },
  {
   "cell_type": "code",
   "execution_count": null,
   "metadata": {},
   "outputs": [],
   "source": [
    "# loading image\n",
    "im = ascent()\n",
    "img = im[300:400,:500]\n",
    "\n",
    "# image shape\n",
    "nr, nc = img.shape[:2]\n",
    "\n",
    "plt.imshow(img)\n",
    "plt.show()"
   ]
  },
  {
   "cell_type": "code",
   "execution_count": null,
   "metadata": {},
   "outputs": [],
   "source": [
    "gen = HorizontalStreaming(img)\n",
    "stream = gen.generate_stream(block_shape=(100,100), return_map=True)\n",
    "\n",
    "alpha = 10\n",
    "omega = 50\n",
    "\n",
    "for n, (labels, i) in enumerate(alpha_omega_cc_streaming(stream, alpha=alpha, omega=omega, return_img=True)):\n",
    "    print(\"Number of new stable nodes at iteration {} is {}\".format(n, labels.shape[1]))\n",
    "    if n > 0:\n",
    "        i = stick_two_images(old_i,i,num_overlapping=1,direction='H')\n",
    "        labels = np.concatenate((old_labels, labels), axis=1)\n",
    "    img_shape = i.shape[:2]\n",
    "    plot_segmentation(i, labels, order='F')\n",
    "    old_i = i\n",
    "    old_labels = labels"
   ]
  }
 ],
 "metadata": {
  "kernelspec": {
   "display_name": "Python 3",
   "language": "python",
   "name": "python3"
  },
  "language_info": {
   "codemirror_mode": {
    "name": "ipython",
    "version": 3
   },
   "file_extension": ".py",
   "mimetype": "text/x-python",
   "name": "python",
   "nbconvert_exporter": "python",
   "pygments_lexer": "ipython3",
   "version": "3.6.3"
  }
 },
 "nbformat": 4,
 "nbformat_minor": 2
}
