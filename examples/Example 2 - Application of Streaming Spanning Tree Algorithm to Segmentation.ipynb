{
 "cells": [
  {
   "cell_type": "code",
   "execution_count": null,
   "metadata": {
    "collapsed": true
   },
   "outputs": [],
   "source": [
    "import numpy as np\n",
    "from scipy.misc import ascent\n",
    "from matplotlib import pyplot as plt\n",
    "\n",
    "import loadlib\n",
    "\n",
    "from SST.utils import *\n",
    "from SST.streaming.streaming_generators import HorizontalStreaming\n",
    "from SST.applications.segmentation.streaming_segmentation import quasi_flat_zone_streaming\n",
    "\n",
    "plt.rcParams['figure.figsize'] = (12.0, 12.0)\n",
    "%load_ext autoreload\n",
    "\n",
    "%matplotlib inline"
   ]
  },
  {
   "cell_type": "code",
   "execution_count": null,
   "metadata": {
    "collapsed": true
   },
   "outputs": [],
   "source": [
    "%autoreload 2"
   ]
  },
  {
   "cell_type": "code",
   "execution_count": null,
   "metadata": {},
   "outputs": [],
   "source": [
    "# loading image\n",
    "im = ascent()\n",
    "img = im[300:400,:500]\n",
    "\n",
    "plt.imshow(img)\n",
    "plt.show()"
   ]
  },
  {
   "cell_type": "code",
   "execution_count": null,
   "metadata": {
    "collapsed": true
   },
   "outputs": [],
   "source": [
    "def plot_segmentation(labels, img_shape, order='F'):\n",
    "\n",
    "    nr, nc = img_shape\n",
    "\n",
    "    seg = np.zeros(nr*nc)\n",
    "\n",
    "    seg[labels[0]] = labels[1]\n",
    "\n",
    "    plt.imshow(seg.reshape(img_shape, order=order))\n",
    "    plt.show()"
   ]
  },
  {
   "cell_type": "code",
   "execution_count": null,
   "metadata": {},
   "outputs": [],
   "source": [
    "# creating streaming\n",
    "gen = HorizontalStreaming(img)\n",
    "stream = gen.generate_stream(block_shape=(100,100))\n",
    "\n",
    "threshold = 5\n",
    "for n, (labels, i) in enumerate(quasi_flat_zone_streaming(stream, threshold, return_img=True)):\n",
    "    print(\"Number of new stable labels at iteration {} is {}\".format(n, labels.shape[1]))\n",
    "    if n > 0:\n",
    "        i = stick_two_images(old_i,i,num_overlapping=1,direction='H')\n",
    "        labels = np.concatenate((old_labels, labels), axis=1)\n",
    "    img_shape = i.shape[:2]\n",
    "    plot_segmentation(labels, img_shape, order='F')\n",
    "    old_i = i\n",
    "    old_labels = labels"
   ]
  },
  {
   "cell_type": "code",
   "execution_count": null,
   "metadata": {
    "collapsed": true
   },
   "outputs": [],
   "source": []
  },
  {
   "cell_type": "code",
   "execution_count": null,
   "metadata": {
    "collapsed": true
   },
   "outputs": [],
   "source": []
  }
 ],
 "metadata": {
  "kernelspec": {
   "display_name": "Python 3",
   "language": "python",
   "name": "python3"
  },
  "language_info": {
   "codemirror_mode": {
    "name": "ipython",
    "version": 3
   },
   "file_extension": ".py",
   "mimetype": "text/x-python",
   "name": "python",
   "nbconvert_exporter": "python",
   "pygments_lexer": "ipython3",
   "version": "3.6.3"
  }
 },
 "nbformat": 4,
 "nbformat_minor": 2
}
