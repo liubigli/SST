{
 "cells": [
  {
   "cell_type": "markdown",
   "metadata": {},
   "source": [
    "# Applications of Streaming Spanning Tree Algorithm to Segmentation\n",
    "\n",
    "In this notebook we show three possible applications of Streaming Spanning Tree Algorithm, that we introduced in the previous notebook, to Segmentation. In particular we show how to use it to\n",
    "- compute $\\lambda$-quasi-flat-zones,\n",
    "- compute a marker-based segmentation,\n",
    "- compute the $(\\alpha, \\omega)$-constrained connectivity.\n",
    "\n",
    "Thanks to the fact that our algorithm splits the minimum spanning tree obtained at time $t$ between a stable and an unstable part, is possible to start treating stable edges to obtain at each step a partial segmentation of the complete image. This avoid to load all the graph in memory and allows also to treat bigger images.\n",
    "\n",
    "We have written a method for each of the cases listed above. Each of them, at each iteration $t$, yields a partial segmentation coded as a vector $\\sigma_t$ of shape $2 \\times m_t$. At the first row of vector $\\sigma_t$, we list the ids of the nodes/pixels in the image for which we can assign a label in the segmentation, whilst in the second rows we put the labels assigned to nodes in the first row."
   ]
  },
  {
   "cell_type": "code",
   "execution_count": null,
   "metadata": {},
   "outputs": [],
   "source": [
    "import numpy as np\n",
    "from scipy.misc import ascent\n",
    "from matplotlib import pyplot as plt\n",
    "\n",
    "import loadlib\n",
    "\n",
    "from SST.utils import *\n",
    "from SST.streaming.streaming_generators import HorizontalStreaming\n",
    "from SST.applications.segmentation.streaming_segmentation import quasi_flat_zone_streaming\n",
    "\n",
    "plt.rcParams['figure.figsize'] = (12.0, 12.0)\n",
    "%load_ext autoreload\n",
    "\n",
    "%matplotlib inline"
   ]
  },
  {
   "cell_type": "code",
   "execution_count": null,
   "metadata": {
    "collapsed": true
   },
   "outputs": [],
   "source": [
    "%autoreload 2"
   ]
  },
  {
   "cell_type": "markdown",
   "metadata": {},
   "source": [
    "### $\\lambda$-quasi-flat-zones\n",
    "\n",
    "In the following we show how to compute the $\\lambda$-quasi-flat-zones of a streaming image. To do so, we implemented a method called ```quasi_flat_zone_streaming```, that at each time $t=0,\\ldots, T$ it returns a vector of shape $2\\times m_t$, containing at the first row the ids of the nodes/pixels for which we can assing a label, and at the second row the label assigned. So at each step this method yields a partial segmentation of the complete image.  "
   ]
  },
  {
   "cell_type": "code",
   "execution_count": null,
   "metadata": {},
   "outputs": [],
   "source": [
    "# loading image\n",
    "im = ascent()\n",
    "img = im[300:400,:500]\n",
    "\n",
    "plt.imshow(img)\n",
    "plt.show()"
   ]
  },
  {
   "cell_type": "code",
   "execution_count": null,
   "metadata": {
    "collapsed": true
   },
   "outputs": [],
   "source": [
    "def plot_segmentation(labels, img_shape, order='F'):\n",
    "\n",
    "    nr, nc = img_shape\n",
    "\n",
    "    seg = np.zeros(nr*nc)\n",
    "\n",
    "    seg[labels[0]] = labels[1]\n",
    "\n",
    "    plt.imshow(seg.reshape(img_shape, order=order))\n",
    "    plt.show()"
   ]
  },
  {
   "cell_type": "code",
   "execution_count": null,
   "metadata": {},
   "outputs": [],
   "source": [
    "# creating streaming\n",
    "gen = HorizontalStreaming(img)\n",
    "stream = gen.generate_stream(block_shape=(100,100))\n",
    "\n",
    "threshold = 5\n",
    "for n, (labels, i) in enumerate(quasi_flat_zone_streaming(stream, threshold, return_img=True)):\n",
    "    print(\"Number of new stable labels at iteration {} is {}\".format(n, labels.shape[1]))\n",
    "    if n > 0:\n",
    "        i = stick_two_images(old_i,i,num_overlapping=1,direction='H')\n",
    "        labels = np.concatenate((old_labels, labels), axis=1)\n",
    "    img_shape = i.shape[:2]\n",
    "    plot_segmentation(labels, img_shape, order='F')\n",
    "    old_i = i\n",
    "    old_labels = labels"
   ]
  },
  {
   "cell_type": "markdown",
   "metadata": {
    "collapsed": true
   },
   "source": [
    "### Marker based segmentation by MST\n",
    "\n",
    "In the following we show an example of marker based segmentation by MST. We do so using a method called ```marker_flooding_streaming``` "
   ]
  },
  {
   "cell_type": "code",
   "execution_count": null,
   "metadata": {
    "collapsed": true
   },
   "outputs": [],
   "source": [
    "from SST.applications.segmentation.streaming_segmentation import marker_flooding_streaming"
   ]
  },
  {
   "cell_type": "code",
   "execution_count": null,
   "metadata": {},
   "outputs": [],
   "source": [
    "# loading image\n",
    "im = ascent()\n",
    "img = im[300:400,:500]\n",
    "\n",
    "# image shape\n",
    "nr, nc = img.shape[:2]\n",
    "\n",
    "plt.imshow(img)\n",
    "plt.show()"
   ]
  },
  {
   "cell_type": "code",
   "execution_count": null,
   "metadata": {},
   "outputs": [],
   "source": [
    "# generating random markers\n",
    "num_markers = 100\n",
    "markers = np.random.randint(0 , nr*nc, size=num_markers)\n",
    "markers.sort()"
   ]
  },
  {
   "cell_type": "code",
   "execution_count": null,
   "metadata": {},
   "outputs": [],
   "source": [
    "# instatiating image generator\n",
    "gen = HorizontalStreaming(img)\n",
    "stream = gen.generate_stream(block_shape=(100,100), markers=markers)\n",
    "\n",
    "for n, (labels, i) in enumerate(marker_flooding_streaming(stream, return_img=True)):\n",
    "    print(\"Number of new stable nodes at iteration {} is {}\".format(n, labels.shape[1]))\n",
    "    if n > 0:\n",
    "        i = stick_two_images(old_i,i,num_overlapping=1,direction='H')\n",
    "        labels = np.concatenate((old_labels, labels), axis=1)\n",
    "    img_shape = i.shape[:2]\n",
    "    plot_segmentation(labels, img_shape, order='F')\n",
    "    old_i = i\n",
    "    old_labels = labels"
   ]
  },
  {
   "cell_type": "markdown",
   "metadata": {},
   "source": [
    "### $(\\alpha,\\omega)$-constrained connectivity\n",
    "\n",
    "In the following we show an example of $(\\alpha,\\omega)$-constrained connectivity. We do so using a method called ```alpha_omega_cc_streaming``` "
   ]
  },
  {
   "cell_type": "code",
   "execution_count": null,
   "metadata": {
    "collapsed": true
   },
   "outputs": [],
   "source": [
    "from SST.applications.segmentation.streaming_segmentation import alpha_omega_cc_streaming"
   ]
  },
  {
   "cell_type": "code",
   "execution_count": null,
   "metadata": {},
   "outputs": [],
   "source": [
    "# loading image\n",
    "im = ascent()\n",
    "img = im[300:400,:500]\n",
    "\n",
    "# image shape\n",
    "nr, nc = img.shape[:2]\n",
    "\n",
    "plt.imshow(img)\n",
    "plt.show()"
   ]
  },
  {
   "cell_type": "code",
   "execution_count": null,
   "metadata": {},
   "outputs": [],
   "source": [
    "gen = HorizontalStreaming(img)\n",
    "stream = gen.generate_stream(block_shape=(100,100), return_map=True)\n",
    "\n",
    "alpha = 10\n",
    "omega = 50\n",
    "\n",
    "for n, (labels, i) in enumerate(alpha_omega_cc_streaming(stream, alpha=alpha, omega=omega, return_img=True)):\n",
    "    print(\"Number of new stable nodes at iteration {} is {}\".format(n, labels.shape[1]))\n",
    "    if n > 0:\n",
    "        i = stick_two_images(old_i,i,num_overlapping=1,direction='H')\n",
    "        labels = np.concatenate((old_labels, labels), axis=1)\n",
    "    img_shape = i.shape[:2]\n",
    "    plot_segmentation(labels, img_shape, order='F')\n",
    "    old_i = i\n",
    "    old_labels = labels"
   ]
  },
  {
   "cell_type": "code",
   "execution_count": null,
   "metadata": {
    "collapsed": true
   },
   "outputs": [],
   "source": []
  }
 ],
 "metadata": {
  "kernelspec": {
   "display_name": "Python 3",
   "language": "python",
   "name": "python3"
  },
  "language_info": {
   "codemirror_mode": {
    "name": "ipython",
    "version": 3
   },
   "file_extension": ".py",
   "mimetype": "text/x-python",
   "name": "python",
   "nbconvert_exporter": "python",
   "pygments_lexer": "ipython3",
   "version": "3.6.3"
  }
 },
 "nbformat": 4,
 "nbformat_minor": 2
}
