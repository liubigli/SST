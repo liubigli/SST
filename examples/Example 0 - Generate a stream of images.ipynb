{
 "cells": [
  {
   "cell_type": "markdown",
   "metadata": {},
   "source": [
    "# Generate a stream of images\n",
    "\n",
    "In this first notebook we show how we generate a stream of image blocks. As a first example, we generate an horizontal stream of block images. \n",
    "\n",
    "Let $\\mathcal{I}$ be a \"big\" image of size $n\\times M$, with $M \\gg n$, we generate a flow of smaller images $I_{t}$, of size $n\\times n$, for $t=0, \\ldots, \\frac{M}{n}$.\n",
    "\n",
    "To do so we are going to use an abstract class that we defined in our module called ```AbstractImageStreamingGenerator```.\n"
   ]
  },
  {
   "cell_type": "code",
   "execution_count": null,
   "metadata": {
    "collapsed": true
   },
   "outputs": [],
   "source": [
    "import numpy as np\n",
    "from scipy.misc import imread\n",
    "from matplotlib import pyplot as plt\n",
    "\n",
    "# loadlib add to syspath SST modules\n",
    "import loadlib\n",
    "\n",
    "from SST.streaming.streaming_generators import AbstractImageStreamingGenerator\n",
    "\n",
    "# plt.rcParams['figure.figsize'] = (12.0, 12.0)\n",
    "%load_ext autoreload\n",
    "\n",
    "%matplotlib inline"
   ]
  },
  {
   "cell_type": "code",
   "execution_count": null,
   "metadata": {
    "collapsed": true
   },
   "outputs": [],
   "source": [
    "%autoreload 2"
   ]
  },
  {
   "cell_type": "code",
   "execution_count": null,
   "metadata": {},
   "outputs": [],
   "source": [
    "# loading an image test\n",
    "test_img = imread('RGB_US-CA-SanDiego_2010_05_03.tif')\n",
    "# we crop test_img to obtain initial big image\n",
    "I = test_img[500:600,:]\n",
    "\n",
    "print(\"Size of image I from which we create the stream is: \", I.shape[:2])\n",
    "plt.figure(figsize=(20,4))\n",
    "plt.imshow(I)\n",
    "plt.show()"
   ]
  },
  {
   "cell_type": "markdown",
   "metadata": {},
   "source": [
    "In order to generate our stream we are going to create a class ```HorizontalStream``` that inherits from the class ```AbstractImageStreamingGenerator```. \n",
    "The parent class has two main methods:\n",
    "-  ```__init__(self, img)```, the constructor that takes as input the big image\n",
    "-  ```generate_stream(self, block_shape, **kwargs)```, an abstract method that we have to implement each time we inherit from ```AbstractImageStreamingGenerator```.\n",
    "\n",
    "The idea is to use this method to return a generator that simulate a streaming of block images.   "
   ]
  },
  {
   "cell_type": "code",
   "execution_count": null,
   "metadata": {
    "collapsed": true
   },
   "outputs": [],
   "source": [
    "class HorizontalStream(AbstractImageStreamingGenerator):\n",
    "    def generate_stream(self, block_shape, **kwargs):\n",
    "        b_nr, b_nc = block_shape # number of row and number of columns in each block\n",
    "        nr, nc, nz = self.img.shape\n",
    "        \n",
    "        for i in range(0, nc, b_nc):\n",
    "            # selecting at each iteration an image block of size (b_nr, b_nc)\n",
    "            yield self.img[:b_nr, i:i+b_nc]"
   ]
  },
  {
   "cell_type": "code",
   "execution_count": null,
   "metadata": {
    "collapsed": true
   },
   "outputs": [],
   "source": [
    "## We test our generator of streaming\n",
    "gen = HorizontalStream(I)\n",
    "# we choose 100,100 as block shape only because I has 100 rows\n",
    "stream = gen.generate_stream(block_shape=(100,100))"
   ]
  },
  {
   "cell_type": "code",
   "execution_count": null,
   "metadata": {
    "scrolled": true
   },
   "outputs": [],
   "source": [
    "# we plot all the images in our stream\n",
    "for img in stream:\n",
    "    plt.figure()\n",
    "    plt.imshow(img)\n",
    "    plt.axis('off')\n",
    "    plt.show()"
   ]
  },
  {
   "cell_type": "markdown",
   "metadata": {},
   "source": [
    "## Another example of streaming generator\n",
    "\n",
    "In this way is possible to write any kind of stream generator, and make them return not only images but also other related information. For example, we can modify our ```HorizontalStream``` class to make it returns, along with the ith block image, also the $4$-connected graph associated."
   ]
  },
  {
   "cell_type": "code",
   "execution_count": null,
   "metadata": {
    "collapsed": true
   },
   "outputs": [],
   "source": [
    "from scipy.sparse.csgraph import minimum_spanning_tree\n",
    "from SST.utils import plot_graph, img_to_graph"
   ]
  },
  {
   "cell_type": "code",
   "execution_count": null,
   "metadata": {
    "collapsed": true
   },
   "outputs": [],
   "source": [
    "class HorizontalStream(AbstractImageStreamingGenerator):\n",
    "    def generate_stream(self, block_shape, **kwargs):\n",
    "        b_nr, b_nc = block_shape # number of row and number of columns in each block\n",
    "        nr, nc, nz = self.img.shape\n",
    "        \n",
    "        for i in range(0, nc, b_nc):\n",
    "            # selecting at each iteration an image block of size (b_nr, b_nc)\n",
    "            img = self.img[:b_nr, i:i+b_nc]\n",
    "            g = img_to_graph(img)\n",
    "            yield img, g"
   ]
  },
  {
   "cell_type": "markdown",
   "metadata": {},
   "source": [
    "In the following example we are going to plot, for each element of the stream, the block image and the minimum spanning tree of the $4$-connected graph associated to the ith image."
   ]
  },
  {
   "cell_type": "code",
   "execution_count": null,
   "metadata": {
    "scrolled": false
   },
   "outputs": [],
   "source": [
    "gen = HorizontalStream(I)\n",
    "stream = gen.generate_stream(block_shape=(100,100))\n",
    "\n",
    "for n, (img,g) in enumerate(stream):\n",
    "    if n > 3:\n",
    "        # since is only an example we stop after 4 iterations\n",
    "        break\n",
    "    plot_graph(img, minimum_spanning_tree(g))\n",
    "    \n",
    "  "
   ]
  },
  {
   "cell_type": "code",
   "execution_count": null,
   "metadata": {
    "collapsed": true
   },
   "outputs": [],
   "source": []
  }
 ],
 "metadata": {
  "kernelspec": {
   "display_name": "Python 3",
   "language": "python",
   "name": "python3"
  },
  "language_info": {
   "codemirror_mode": {
    "name": "ipython",
    "version": 3
   },
   "file_extension": ".py",
   "mimetype": "text/x-python",
   "name": "python",
   "nbconvert_exporter": "python",
   "pygments_lexer": "ipython3",
   "version": "3.6.3"
  }
 },
 "nbformat": 4,
 "nbformat_minor": 2
}
