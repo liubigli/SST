{
 "cells": [
  {
   "cell_type": "markdown",
   "metadata": {},
   "source": [
    "# Minimum Spanning Tree Streaming Algorithm\n",
    "\n",
    "In this notebook we present the method introduced in the paper <a href=\"http://cmm.ensmp.fr/~marcoteg/cv/publi_pdf/gigli/20180525_ICIP18_StreamingMst.pdf\">ON MINIMUM SPANNING TREE STREAMING FOR IMAGE ANALYSIS.</a>\n",
    "\n",
    "### Context\n",
    "\n",
    "Let $\\mathcal{I}_t$ be an image streaming during time, in which new pixels come from one side of the image. At each interval of time $t=0,\\ldots, T$, a new block $I_t$ of pixels arrives, such that $\\mathcal{I}_t = \\mathcal{I}_{t-1} \\cup I_t$. To simplify our problem, we assume that the new image $I_t$ shares a column with $\\mathcal{I}_{t-1}$, i.e. the last column of $\\mathcal{I}_{t-1}$ is the first column of $I_t$, as in the following figure:\n",
    "<img style=\"height: 150px; margin-top: 20px; margin-bottom: 20px\", src=\"fig/img_1.png\">\n",
    "\n",
    "### Minimum spanning tree streaming\n",
    "\n",
    "In this context, the method that we present in this notebook addresses the problem of computing a minimum spanning tree of the image $\\mathcal{I}_t$, at each iteration $t=0,\\ldots,T$, using the information of the itearation $t-1$."
   ]
  },
  {
   "cell_type": "code",
   "execution_count": null,
   "metadata": {},
   "outputs": [],
   "source": [
    "# loading libraries\n",
    "from scipy.misc import imread\n",
    "from scipy.sparse.csgraph import minimum_spanning_tree\n",
    "from matplotlib import pyplot as plt\n",
    "\n",
    "\n",
    "import loadlib\n",
    "\n",
    "from SST.utils import plot_graph, stick_two_images\n",
    "from SST.streaming import streaming_spanning_tree\n",
    "from SST.streaming.streaming_generators import HorizontalStreaming\n",
    "\n",
    "%load_ext autoreload"
   ]
  },
  {
   "cell_type": "code",
   "execution_count": null,
   "metadata": {
    "collapsed": true
   },
   "outputs": [],
   "source": [
    "%autoreload 2"
   ]
  },
  {
   "cell_type": "code",
   "execution_count": null,
   "metadata": {},
   "outputs": [],
   "source": [
    "test_img = imread('RGB_US-CA-SanDiego_2010_05_03.tif')\n",
    "\n",
    "# big image that we are going to split in blocks\n",
    "I = test_img[300:400,:199]\n",
    "\n",
    "plt.figure(figsize=(16,8))\n",
    "plt.imshow(I)\n",
    "plt.axis('off')\n",
    "plt.show()"
   ]
  },
  {
   "cell_type": "markdown",
   "metadata": {},
   "source": [
    "### HorizontalStreaming Generator\n",
    "\n",
    "We show a stream generator that fit to the context that we described before. This generator yields at each iteration the following four elements:\n",
    "\n",
    "- ith block image\n",
    "- the 4-connected graph associated to the ith block image\n",
    "- id of a particular node to use as root node, (id of top-right pixel of the ith img)\n",
    "- ids of nodes in the frontier between ith image and (i+1)th image"
   ]
  },
  {
   "cell_type": "code",
   "execution_count": null,
   "metadata": {},
   "outputs": [],
   "source": [
    "# big image that we are going to split in blocks\n",
    "I = test_img[300:400,:199]\n",
    "\n",
    "gen = HorizontalStreaming(I)\n",
    "stream = gen.generate_stream(block_shape=(100,100))\n",
    "\n",
    "all_graphs = []\n",
    "for n, (img, g, r, front) in enumerate(stream):\n",
    "    if n == 0:\n",
    "        total_img = img\n",
    "    else:\n",
    "        total_img = stick_two_images(total_img, img, num_overlapping=1, direction='H')\n",
    "    \n",
    "    if front is not None:\n",
    "        print(\"{} is the root node id for the mst at iteration {}\".format(r, n))\n",
    "        print(\"{} are the first 10 nodes in the frontier at iteration {}\".format(front[:10], n))\n",
    "        \n",
    "    all_graphs.append(g)\n",
    "    plot_graph(total_img, all_graphs, order='F', colors=['b', 'r'], figsize=(8*(n+1),8))"
   ]
  },
  {
   "cell_type": "markdown",
   "metadata": {
    "collapsed": true
   },
   "source": [
    "### Proposed method\n",
    "\n",
    "As we have shown, at each iteration the stream generator yields, among all the nodes in the frontiers between the ith image and the one in the successive iteration.\n",
    "\n"
   ]
  },
  {
   "cell_type": "code",
   "execution_count": null,
   "metadata": {
    "collapsed": true
   },
   "outputs": [],
   "source": [
    "I = test_img[300:400,:298]\n",
    "\n",
    "gen = HorizontalStreaming(I)\n",
    "stream = gen.generate_stream(block_shape=(100,100))\n",
    "\n",
    "\n",
    "for n, (t, e, img) in enumerate(streaming_spanning_tree(stream, return_img=True)):\n",
    "    if n == 0:\n",
    "        total_img = img\n",
    "    else:\n",
    "        total_img = stick_two_images(total_img, img, num_overlapping=1, direction='H')\n",
    "    if e is not None:\n",
    "        plot_graph(total_img, [t,e], order='F', colors=['b', 'r'], figsize=(8*(n+1),8))\n",
    "    else:\n",
    "        plot_graph(total_img, t, order='F', colors=['b'], figsize=(8*(n+1),8))"
   ]
  },
  {
   "cell_type": "markdown",
   "metadata": {
    "collapsed": true
   },
   "source": [
    "### MST Decomposition"
   ]
  },
  {
   "cell_type": "code",
   "execution_count": null,
   "metadata": {
    "collapsed": true
   },
   "outputs": [],
   "source": [
    "from SST.utils import resize_graph\n",
    "I = test_img[150:200, 250:398]\n",
    "gen = HorizontalStreaming(I)\n",
    "stream = gen.generate_stream(block_shape=(50,50))\n",
    "T = None\n",
    "for n, (t, e, img) in enumerate(streaming_spanning_tree(stream, return_img=True)):\n",
    "    if n == 0:\n",
    "        total_img = img\n",
    "        T = t\n",
    "    else:\n",
    "        total_img = stick_two_images(total_img, img, num_overlapping=1, direction='H')\n",
    "    if e is not None:\n",
    "        if n == 0:\n",
    "            plot_graph(total_img, [t,e], order='F', colors=['C2', 'r'], saveplot=True, title='dec'+str(n))\n",
    "        else:\n",
    "            plot_graph(total_img, [t, e], order='F', colors=['C2', 'r'], saveplot=True, title='dec'+str(n))\n",
    "    else:\n",
    "        plot_graph(total_img, [t], order='F', colors=['C2'], saveplot=True, title='dec'+str(n))\n",
    "    T = resize_graph(T, t.shape)\n",
    "    T += t"
   ]
  },
  {
   "cell_type": "code",
   "execution_count": null,
   "metadata": {
    "collapsed": true
   },
   "outputs": [],
   "source": []
  }
 ],
 "metadata": {
  "kernelspec": {
   "display_name": "Python 3",
   "language": "python",
   "name": "python3"
  },
  "language_info": {
   "codemirror_mode": {
    "name": "ipython",
    "version": 3
   },
   "file_extension": ".py",
   "mimetype": "text/x-python",
   "name": "python",
   "nbconvert_exporter": "python",
   "pygments_lexer": "ipython3",
   "version": "3.6.3"
  }
 },
 "nbformat": 4,
 "nbformat_minor": 2
}
